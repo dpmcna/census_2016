{
 "cells": [
  {
   "cell_type": "markdown",
   "metadata": {},
   "source": [
    "# Code to import census CSVs to SQL"
   ]
  },
  {
   "cell_type": "markdown",
   "metadata": {},
   "source": [
    "### Settings"
   ]
  },
  {
   "cell_type": "code",
   "execution_count": 13,
   "metadata": {
    "collapsed": true
   },
   "outputs": [],
   "source": [
    "inputpath = 'to_import'\n",
    "outputpath = 'sql'\n",
    "flavour = 'mysql'\n",
    "insertdata = False"
   ]
  },
  {
   "cell_type": "markdown",
   "metadata": {},
   "source": [
    "## Get the CSV Files and make .SQL files from them"
   ]
  },
  {
   "cell_type": "markdown",
   "metadata": {},
   "source": [
    "#### Function to get csv files to parse"
   ]
  },
  {
   "cell_type": "code",
   "execution_count": 16,
   "metadata": {
    "collapsed": true
   },
   "outputs": [],
   "source": [
    "import csvkit\n",
    "import os\n",
    "from os import listdir\n",
    "from os.path import isfile, join"
   ]
  },
  {
   "cell_type": "code",
   "execution_count": 14,
   "metadata": {
    "collapsed": true
   },
   "outputs": [],
   "source": [
    "def get_files(inputpath):\n",
    "    try:\n",
    "        files = [f for f in listdir(inputpath) if isfile(join(inputpath, f))]\n",
    "        return(files)\n",
    "    except:\n",
    "        print('Couldn\\'t get files for some reason')"
   ]
  },
  {
   "cell_type": "code",
   "execution_count": 17,
   "metadata": {},
   "outputs": [
    {
     "name": "stdout",
     "output_type": "stream",
     "text": [
      "['2016Census_G01_AUS.csv', '2016Census_G01_AUS_CED.csv', '2016Census_G01_AUS_GCCSA.csv', '2016Census_G01_AUS_LGA.csv', '2016Census_G01_AUS_POA.csv', '2016Census_G01_AUS_SA1.csv', '2016Census_G01_AUS_SA2.csv', '2016Census_G01_AUS_SA3.csv', '2016Census_G01_AUS_SA4.csv', '2016Census_G01_AUS_SED.csv', '2016Census_G01_AUS_SSC.csv', '2016Census_G01_AUS_STE.csv', '2016Census_G02_AUS.csv', '2016Census_G02_AUS_CED.csv', '2016Census_G02_AUS_GCCSA.csv', '2016Census_G02_AUS_LGA.csv', '2016Census_G02_AUS_POA.csv', '2016Census_G02_AUS_SA1.csv', '2016Census_G02_AUS_SA2.csv', '2016Census_G02_AUS_SA3.csv', '2016Census_G02_AUS_SA4.csv', '2016Census_G02_AUS_SED.csv', '2016Census_G02_AUS_SSC.csv', '2016Census_G02_AUS_STE.csv', '2016Census_G03_AUS.csv', '2016Census_G03_AUS_CED.csv', '2016Census_G03_AUS_GCCSA.csv', '2016Census_G03_AUS_LGA.csv', '2016Census_G03_AUS_POA.csv', '2016Census_G03_AUS_SA1.csv', '2016Census_G03_AUS_SA2.csv', '2016Census_G03_AUS_SA3.csv', '2016Census_G03_AUS_SA4.csv', '2016Census_G03_AUS_SED.csv', '2016Census_G03_AUS_SSC.csv', '2016Census_G03_AUS_STE.csv', '2016Census_G04A_AUS.csv', '2016Census_G04A_AUS_CED.csv', '2016Census_G04A_AUS_GCCSA.csv', '2016Census_G04A_AUS_LGA.csv', '2016Census_G04A_AUS_POA.csv', '2016Census_G04A_AUS_SA1.csv', '2016Census_G04A_AUS_SA2.csv', '2016Census_G04A_AUS_SA3.csv', '2016Census_G04A_AUS_SA4.csv', '2016Census_G04A_AUS_SED.csv', '2016Census_G04A_AUS_SSC.csv', '2016Census_G04A_AUS_STE.csv', '2016Census_G04B_AUS.csv', '2016Census_G04B_AUS_CED.csv', '2016Census_G04B_AUS_GCCSA.csv', '2016Census_G04B_AUS_LGA.csv', '2016Census_G04B_AUS_POA.csv', '2016Census_G04B_AUS_SA1.csv', '2016Census_G04B_AUS_SA2.csv', '2016Census_G04B_AUS_SA3.csv', '2016Census_G04B_AUS_SA4.csv', '2016Census_G04B_AUS_SED.csv', '2016Census_G04B_AUS_SSC.csv', '2016Census_G04B_AUS_STE.csv', '2016Census_G05_AUS.csv', '2016Census_G05_AUS_CED.csv', '2016Census_G05_AUS_GCCSA.csv', '2016Census_G05_AUS_LGA.csv', '2016Census_G05_AUS_POA.csv', '2016Census_G05_AUS_SA1.csv', '2016Census_G05_AUS_SA2.csv', '2016Census_G05_AUS_SA3.csv', '2016Census_G05_AUS_SA4.csv', '2016Census_G05_AUS_SED.csv', '2016Census_G05_AUS_SSC.csv', '2016Census_G05_AUS_STE.csv', '2016Census_G06_AUS.csv', '2016Census_G06_AUS_CED.csv', '2016Census_G06_AUS_GCCSA.csv', '2016Census_G06_AUS_LGA.csv', '2016Census_G06_AUS_POA.csv', '2016Census_G06_AUS_SA1.csv', '2016Census_G06_AUS_SA2.csv', '2016Census_G06_AUS_SA3.csv', '2016Census_G06_AUS_SA4.csv', '2016Census_G06_AUS_SED.csv', '2016Census_G06_AUS_SSC.csv', '2016Census_G06_AUS_STE.csv', '2016Census_G07_AUS.csv', '2016Census_G07_AUS_CED.csv', '2016Census_G07_AUS_GCCSA.csv', '2016Census_G07_AUS_LGA.csv', '2016Census_G07_AUS_POA.csv', '2016Census_G07_AUS_SA1.csv', '2016Census_G07_AUS_SA2.csv', '2016Census_G07_AUS_SA3.csv', '2016Census_G07_AUS_SA4.csv', '2016Census_G07_AUS_SED.csv', '2016Census_G07_AUS_SSC.csv', '2016Census_G07_AUS_STE.csv', '2016Census_G08_AUS.csv', '2016Census_G08_AUS_CED.csv', '2016Census_G08_AUS_GCCSA.csv', '2016Census_G08_AUS_LGA.csv', '2016Census_G08_AUS_POA.csv', '2016Census_G08_AUS_SA1.csv', '2016Census_G08_AUS_SA2.csv', '2016Census_G08_AUS_SA3.csv', '2016Census_G08_AUS_SA4.csv', '2016Census_G08_AUS_SED.csv', '2016Census_G08_AUS_SSC.csv', '2016Census_G08_AUS_STE.csv', '2016Census_G09A_AUS.csv', '2016Census_G09A_AUS_CED.csv', '2016Census_G09A_AUS_GCCSA.csv', '2016Census_G09A_AUS_LGA.csv', '2016Census_G09A_AUS_POA.csv', '2016Census_G09A_AUS_SA1.csv', '2016Census_G09A_AUS_SA2.csv', '2016Census_G09A_AUS_SA3.csv', '2016Census_G09A_AUS_SA4.csv', '2016Census_G09A_AUS_SED.csv', '2016Census_G09A_AUS_SSC.csv', '2016Census_G09A_AUS_STE.csv', '2016Census_G09B_AUS.csv', '2016Census_G09B_AUS_CED.csv', '2016Census_G09B_AUS_GCCSA.csv', '2016Census_G09B_AUS_LGA.csv', '2016Census_G09B_AUS_POA.csv', '2016Census_G09B_AUS_SA1.csv', '2016Census_G09B_AUS_SA2.csv', '2016Census_G09B_AUS_SA3.csv', '2016Census_G09B_AUS_SA4.csv', '2016Census_G09B_AUS_SED.csv', '2016Census_G09B_AUS_SSC.csv', '2016Census_G09B_AUS_STE.csv', '2016Census_G09C_AUS.csv', '2016Census_G09C_AUS_CED.csv', '2016Census_G09C_AUS_GCCSA.csv', '2016Census_G09C_AUS_LGA.csv', '2016Census_G09C_AUS_POA.csv', '2016Census_G09C_AUS_SA1.csv', '2016Census_G09C_AUS_SA2.csv', '2016Census_G09C_AUS_SA3.csv', '2016Census_G09C_AUS_SA4.csv', '2016Census_G09C_AUS_SED.csv', '2016Census_G09C_AUS_SSC.csv', '2016Census_G09C_AUS_STE.csv', '2016Census_G09D_AUS.csv', '2016Census_G09D_AUS_CED.csv', '2016Census_G09D_AUS_GCCSA.csv', '2016Census_G09D_AUS_LGA.csv', '2016Census_G09D_AUS_POA.csv', '2016Census_G09D_AUS_SA1.csv', '2016Census_G09D_AUS_SA2.csv', '2016Census_G09D_AUS_SA3.csv', '2016Census_G09D_AUS_SA4.csv', '2016Census_G09D_AUS_SED.csv', '2016Census_G09D_AUS_SSC.csv', '2016Census_G09D_AUS_STE.csv', '2016Census_G09E_AUS.csv', '2016Census_G09E_AUS_CED.csv', '2016Census_G09E_AUS_GCCSA.csv', '2016Census_G09E_AUS_LGA.csv', '2016Census_G09E_AUS_POA.csv', '2016Census_G09E_AUS_SA1.csv', '2016Census_G09E_AUS_SA2.csv', '2016Census_G09E_AUS_SA3.csv', '2016Census_G09E_AUS_SA4.csv', '2016Census_G09E_AUS_SED.csv', '2016Census_G09E_AUS_SSC.csv', '2016Census_G09E_AUS_STE.csv', '2016Census_G09F_AUS.csv', '2016Census_G09F_AUS_CED.csv', '2016Census_G09F_AUS_GCCSA.csv', '2016Census_G09F_AUS_LGA.csv', '2016Census_G09F_AUS_POA.csv', '2016Census_G09F_AUS_SA1.csv', '2016Census_G09F_AUS_SA2.csv', '2016Census_G09F_AUS_SA3.csv', '2016Census_G09F_AUS_SA4.csv', '2016Census_G09F_AUS_SED.csv', '2016Census_G09F_AUS_SSC.csv', '2016Census_G09F_AUS_STE.csv', '2016Census_G09G_AUS.csv', '2016Census_G09G_AUS_CED.csv', '2016Census_G09G_AUS_GCCSA.csv', '2016Census_G09G_AUS_LGA.csv', '2016Census_G09G_AUS_POA.csv', '2016Census_G09G_AUS_SA1.csv', '2016Census_G09G_AUS_SA2.csv', '2016Census_G09G_AUS_SA3.csv', '2016Census_G09G_AUS_SA4.csv', '2016Census_G09G_AUS_SED.csv', '2016Census_G09G_AUS_SSC.csv', '2016Census_G09G_AUS_STE.csv', '2016Census_G09H_AUS.csv', '2016Census_G09H_AUS_CED.csv', '2016Census_G09H_AUS_GCCSA.csv', '2016Census_G09H_AUS_LGA.csv', '2016Census_G09H_AUS_POA.csv', '2016Census_G09H_AUS_SA1.csv', '2016Census_G09H_AUS_SA2.csv', '2016Census_G09H_AUS_SA3.csv', '2016Census_G09H_AUS_SA4.csv', '2016Census_G09H_AUS_SED.csv', '2016Census_G09H_AUS_SSC.csv', '2016Census_G09H_AUS_STE.csv', '2016Census_G10A_AUS.csv', '2016Census_G10A_AUS_CED.csv', '2016Census_G10A_AUS_GCCSA.csv', '2016Census_G10A_AUS_LGA.csv', '2016Census_G10A_AUS_POA.csv', '2016Census_G10A_AUS_SA1.csv', '2016Census_G10A_AUS_SA2.csv', '2016Census_G10A_AUS_SA3.csv', '2016Census_G10A_AUS_SA4.csv', '2016Census_G10A_AUS_SED.csv', '2016Census_G10A_AUS_SSC.csv', '2016Census_G10A_AUS_STE.csv', '2016Census_G10B_AUS.csv', '2016Census_G10B_AUS_CED.csv', '2016Census_G10B_AUS_GCCSA.csv', '2016Census_G10B_AUS_LGA.csv', '2016Census_G10B_AUS_POA.csv', '2016Census_G10B_AUS_SA1.csv', '2016Census_G10B_AUS_SA2.csv', '2016Census_G10B_AUS_SA3.csv', '2016Census_G10B_AUS_SA4.csv', '2016Census_G10B_AUS_SED.csv', '2016Census_G10B_AUS_SSC.csv', '2016Census_G10B_AUS_STE.csv', '2016Census_G10C_AUS.csv', '2016Census_G10C_AUS_CED.csv', '2016Census_G10C_AUS_GCCSA.csv', '2016Census_G10C_AUS_LGA.csv', '2016Census_G10C_AUS_POA.csv', '2016Census_G10C_AUS_SA1.csv', '2016Census_G10C_AUS_SA2.csv', '2016Census_G10C_AUS_SA3.csv', '2016Census_G10C_AUS_SA4.csv', '2016Census_G10C_AUS_SED.csv', '2016Census_G10C_AUS_SSC.csv', '2016Census_G10C_AUS_STE.csv', '2016Census_G11A_AUS.csv', '2016Census_G11A_AUS_CED.csv', '2016Census_G11A_AUS_GCCSA.csv', '2016Census_G11A_AUS_LGA.csv', '2016Census_G11A_AUS_POA.csv', '2016Census_G11A_AUS_SA1.csv', '2016Census_G11A_AUS_SA2.csv', '2016Census_G11A_AUS_SA3.csv', '2016Census_G11A_AUS_SA4.csv', '2016Census_G11A_AUS_SED.csv', '2016Census_G11A_AUS_SSC.csv', '2016Census_G11A_AUS_STE.csv', '2016Census_G11B_AUS.csv', '2016Census_G11B_AUS_CED.csv', '2016Census_G11B_AUS_GCCSA.csv', '2016Census_G11B_AUS_LGA.csv', '2016Census_G11B_AUS_POA.csv', '2016Census_G11B_AUS_SA1.csv', '2016Census_G11B_AUS_SA2.csv', '2016Census_G11B_AUS_SA3.csv', '2016Census_G11B_AUS_SA4.csv', '2016Census_G11B_AUS_SED.csv', '2016Census_G11B_AUS_SSC.csv', '2016Census_G11B_AUS_STE.csv', '2016Census_G11C_AUS.csv', '2016Census_G11C_AUS_CED.csv', '2016Census_G11C_AUS_GCCSA.csv', '2016Census_G11C_AUS_LGA.csv', '2016Census_G11C_AUS_POA.csv', '2016Census_G11C_AUS_SA1.csv', '2016Census_G11C_AUS_SA2.csv', '2016Census_G11C_AUS_SA3.csv', '2016Census_G11C_AUS_SA4.csv', '2016Census_G11C_AUS_SED.csv', '2016Census_G11C_AUS_SSC.csv', '2016Census_G11C_AUS_STE.csv', '2016Census_G11D_AUS.csv', '2016Census_G11D_AUS_CED.csv', '2016Census_G11D_AUS_GCCSA.csv', '2016Census_G11D_AUS_LGA.csv', '2016Census_G11D_AUS_POA.csv', '2016Census_G11D_AUS_SA1.csv', '2016Census_G11D_AUS_SA2.csv', '2016Census_G11D_AUS_SA3.csv', '2016Census_G11D_AUS_SA4.csv', '2016Census_G11D_AUS_SED.csv', '2016Census_G11D_AUS_SSC.csv', '2016Census_G11D_AUS_STE.csv', '2016Census_G12A_AUS.csv', '2016Census_G12A_AUS_CED.csv', '2016Census_G12A_AUS_GCCSA.csv', '2016Census_G12A_AUS_LGA.csv', '2016Census_G12A_AUS_POA.csv', '2016Census_G12A_AUS_SA1.csv', '2016Census_G12A_AUS_SA2.csv', '2016Census_G12A_AUS_SA3.csv', '2016Census_G12A_AUS_SA4.csv', '2016Census_G12A_AUS_SED.csv', '2016Census_G12A_AUS_SSC.csv', '2016Census_G12A_AUS_STE.csv', '2016Census_G12B_AUS.csv', '2016Census_G12B_AUS_CED.csv', '2016Census_G12B_AUS_GCCSA.csv', '2016Census_G12B_AUS_LGA.csv', '2016Census_G12B_AUS_POA.csv', '2016Census_G12B_AUS_SA1.csv', '2016Census_G12B_AUS_SA2.csv', '2016Census_G12B_AUS_SA3.csv', '2016Census_G12B_AUS_SA4.csv', '2016Census_G12B_AUS_SED.csv', '2016Census_G12B_AUS_SSC.csv', '2016Census_G12B_AUS_STE.csv', '2016Census_G13A_AUS.csv', '2016Census_G13A_AUS_CED.csv', '2016Census_G13A_AUS_GCCSA.csv', '2016Census_G13A_AUS_LGA.csv', '2016Census_G13A_AUS_POA.csv', '2016Census_G13A_AUS_SA1.csv', '2016Census_G13A_AUS_SA2.csv', '2016Census_G13A_AUS_SA3.csv', '2016Census_G13A_AUS_SA4.csv', '2016Census_G13A_AUS_SED.csv', '2016Census_G13A_AUS_SSC.csv', '2016Census_G13A_AUS_STE.csv', '2016Census_G13B_AUS.csv', '2016Census_G13B_AUS_CED.csv', '2016Census_G13B_AUS_GCCSA.csv', '2016Census_G13B_AUS_LGA.csv', '2016Census_G13B_AUS_POA.csv', '2016Census_G13B_AUS_SA1.csv', '2016Census_G13B_AUS_SA2.csv', '2016Census_G13B_AUS_SA3.csv', '2016Census_G13B_AUS_SA4.csv', '2016Census_G13B_AUS_SED.csv', '2016Census_G13B_AUS_SSC.csv', '2016Census_G13B_AUS_STE.csv', '2016Census_G13C_AUS.csv', '2016Census_G13C_AUS_CED.csv', '2016Census_G13C_AUS_GCCSA.csv', '2016Census_G13C_AUS_LGA.csv', '2016Census_G13C_AUS_POA.csv', '2016Census_G13C_AUS_SA1.csv', '2016Census_G13C_AUS_SA2.csv', '2016Census_G13C_AUS_SA3.csv', '2016Census_G13C_AUS_SA4.csv', '2016Census_G13C_AUS_SED.csv', '2016Census_G13C_AUS_SSC.csv', '2016Census_G13C_AUS_STE.csv', '2016Census_G13D_AUS.csv', '2016Census_G13D_AUS_CED.csv', '2016Census_G13D_AUS_GCCSA.csv', '2016Census_G13D_AUS_LGA.csv', '2016Census_G13D_AUS_POA.csv', '2016Census_G13D_AUS_SA1.csv', '2016Census_G13D_AUS_SA2.csv', '2016Census_G13D_AUS_SA3.csv', '2016Census_G13D_AUS_SA4.csv', '2016Census_G13D_AUS_SED.csv', '2016Census_G13D_AUS_SSC.csv', '2016Census_G13D_AUS_STE.csv', '2016Census_G14_AUS.csv', '2016Census_G14_AUS_CED.csv', '2016Census_G14_AUS_GCCSA.csv', '2016Census_G14_AUS_LGA.csv', '2016Census_G14_AUS_POA.csv', '2016Census_G14_AUS_SA1.csv', '2016Census_G14_AUS_SA2.csv', '2016Census_G14_AUS_SA3.csv', '2016Census_G14_AUS_SA4.csv', '2016Census_G14_AUS_SED.csv', '2016Census_G14_AUS_SSC.csv', '2016Census_G14_AUS_STE.csv', '2016Census_G15_AUS.csv', '2016Census_G15_AUS_CED.csv', '2016Census_G15_AUS_GCCSA.csv', '2016Census_G15_AUS_LGA.csv', '2016Census_G15_AUS_POA.csv', '2016Census_G15_AUS_SA1.csv', '2016Census_G15_AUS_SA2.csv', '2016Census_G15_AUS_SA3.csv', '2016Census_G15_AUS_SA4.csv', '2016Census_G15_AUS_SED.csv', '2016Census_G15_AUS_SSC.csv', '2016Census_G15_AUS_STE.csv', '2016Census_G16A_AUS.csv', '2016Census_G16A_AUS_CED.csv', '2016Census_G16A_AUS_GCCSA.csv', '2016Census_G16A_AUS_LGA.csv', '2016Census_G16A_AUS_POA.csv', '2016Census_G16A_AUS_SA1.csv', '2016Census_G16A_AUS_SA2.csv', '2016Census_G16A_AUS_SA3.csv', '2016Census_G16A_AUS_SA4.csv', '2016Census_G16A_AUS_SED.csv', '2016Census_G16A_AUS_SSC.csv', '2016Census_G16A_AUS_STE.csv', '2016Census_G16B_AUS.csv', '2016Census_G16B_AUS_CED.csv', '2016Census_G16B_AUS_GCCSA.csv', '2016Census_G16B_AUS_LGA.csv', '2016Census_G16B_AUS_POA.csv', '2016Census_G16B_AUS_SA1.csv', '2016Census_G16B_AUS_SA2.csv', '2016Census_G16B_AUS_SA3.csv', '2016Census_G16B_AUS_SA4.csv', '2016Census_G16B_AUS_SED.csv', '2016Census_G16B_AUS_SSC.csv', '2016Census_G16B_AUS_STE.csv', '2016Census_G17A_AUS.csv', '2016Census_G17A_AUS_CED.csv', '2016Census_G17A_AUS_GCCSA.csv', '2016Census_G17A_AUS_LGA.csv', '2016Census_G17A_AUS_POA.csv', '2016Census_G17A_AUS_SA1.csv', '2016Census_G17A_AUS_SA2.csv', '2016Census_G17A_AUS_SA3.csv', '2016Census_G17A_AUS_SA4.csv', '2016Census_G17A_AUS_SED.csv', '2016Census_G17A_AUS_SSC.csv', '2016Census_G17A_AUS_STE.csv', '2016Census_G17B_AUS.csv', '2016Census_G17B_AUS_CED.csv', '2016Census_G17B_AUS_GCCSA.csv', '2016Census_G17B_AUS_LGA.csv', '2016Census_G17B_AUS_POA.csv', '2016Census_G17B_AUS_SA1.csv', '2016Census_G17B_AUS_SA2.csv', '2016Census_G17B_AUS_SA3.csv', '2016Census_G17B_AUS_SA4.csv', '2016Census_G17B_AUS_SED.csv', '2016Census_G17B_AUS_SSC.csv', '2016Census_G17B_AUS_STE.csv', '2016Census_G17C_AUS.csv', '2016Census_G17C_AUS_CED.csv', '2016Census_G17C_AUS_GCCSA.csv', '2016Census_G17C_AUS_LGA.csv', '2016Census_G17C_AUS_POA.csv', '2016Census_G17C_AUS_SA1.csv', '2016Census_G17C_AUS_SA2.csv', '2016Census_G17C_AUS_SA3.csv', '2016Census_G17C_AUS_SA4.csv', '2016Census_G17C_AUS_SED.csv', '2016Census_G17C_AUS_SSC.csv', '2016Census_G17C_AUS_STE.csv', '2016Census_G18_AUS.csv', '2016Census_G18_AUS_CED.csv', '2016Census_G18_AUS_GCCSA.csv', '2016Census_G18_AUS_LGA.csv', '2016Census_G18_AUS_POA.csv', '2016Census_G18_AUS_SA1.csv', '2016Census_G18_AUS_SA2.csv', '2016Census_G18_AUS_SA3.csv', '2016Census_G18_AUS_SA4.csv', '2016Census_G18_AUS_SED.csv', '2016Census_G18_AUS_SSC.csv', '2016Census_G18_AUS_STE.csv', '2016Census_G19_AUS.csv', '2016Census_G19_AUS_CED.csv', '2016Census_G19_AUS_GCCSA.csv', '2016Census_G19_AUS_LGA.csv', '2016Census_G19_AUS_POA.csv', '2016Census_G19_AUS_SA1.csv', '2016Census_G19_AUS_SA2.csv', '2016Census_G19_AUS_SA3.csv', '2016Census_G19_AUS_SA4.csv', '2016Census_G19_AUS_SED.csv', '2016Census_G19_AUS_SSC.csv', '2016Census_G19_AUS_STE.csv', '2016Census_G20A_AUS.csv', '2016Census_G20A_AUS_CED.csv', '2016Census_G20A_AUS_GCCSA.csv', '2016Census_G20A_AUS_LGA.csv', '2016Census_G20A_AUS_POA.csv', '2016Census_G20A_AUS_SA1.csv', '2016Census_G20A_AUS_SA2.csv', '2016Census_G20A_AUS_SA3.csv', '2016Census_G20A_AUS_SA4.csv', '2016Census_G20A_AUS_SED.csv', '2016Census_G20A_AUS_SSC.csv', '2016Census_G20A_AUS_STE.csv', '2016Census_G20B_AUS.csv', '2016Census_G20B_AUS_CED.csv', '2016Census_G20B_AUS_GCCSA.csv', '2016Census_G20B_AUS_LGA.csv', '2016Census_G20B_AUS_POA.csv', '2016Census_G20B_AUS_SA1.csv', '2016Census_G20B_AUS_SA2.csv', '2016Census_G20B_AUS_SA3.csv', '2016Census_G20B_AUS_SA4.csv', '2016Census_G20B_AUS_SED.csv', '2016Census_G20B_AUS_SSC.csv', '2016Census_G20B_AUS_STE.csv', '2016Census_G21_AUS.csv', '2016Census_G21_AUS_CED.csv', '2016Census_G21_AUS_GCCSA.csv', '2016Census_G21_AUS_LGA.csv', '2016Census_G21_AUS_POA.csv', '2016Census_G21_AUS_SA1.csv', '2016Census_G21_AUS_SA2.csv', '2016Census_G21_AUS_SA3.csv', '2016Census_G21_AUS_SA4.csv', '2016Census_G21_AUS_SED.csv', '2016Census_G21_AUS_SSC.csv', '2016Census_G21_AUS_STE.csv', '2016Census_G22A_AUS.csv', '2016Census_G22A_AUS_CED.csv', '2016Census_G22A_AUS_GCCSA.csv', '2016Census_G22A_AUS_LGA.csv', '2016Census_G22A_AUS_POA.csv', '2016Census_G22A_AUS_SA1.csv', '2016Census_G22A_AUS_SA2.csv', '2016Census_G22A_AUS_SA3.csv', '2016Census_G22A_AUS_SA4.csv', '2016Census_G22A_AUS_SED.csv', '2016Census_G22A_AUS_SSC.csv', '2016Census_G22A_AUS_STE.csv', '2016Census_G22B_AUS.csv', '2016Census_G22B_AUS_CED.csv', '2016Census_G22B_AUS_GCCSA.csv', '2016Census_G22B_AUS_LGA.csv', '2016Census_G22B_AUS_POA.csv', '2016Census_G22B_AUS_SA1.csv', '2016Census_G22B_AUS_SA2.csv', '2016Census_G22B_AUS_SA3.csv', '2016Census_G22B_AUS_SA4.csv', '2016Census_G22B_AUS_SED.csv', '2016Census_G22B_AUS_SSC.csv', '2016Census_G22B_AUS_STE.csv', '2016Census_G23A_AUS.csv', '2016Census_G23A_AUS_CED.csv', '2016Census_G23A_AUS_GCCSA.csv', '2016Census_G23A_AUS_LGA.csv', '2016Census_G23A_AUS_POA.csv', '2016Census_G23A_AUS_SA1.csv', '2016Census_G23A_AUS_SA2.csv', '2016Census_G23A_AUS_SA3.csv', '2016Census_G23A_AUS_SA4.csv', '2016Census_G23A_AUS_SED.csv', '2016Census_G23A_AUS_SSC.csv', '2016Census_G23A_AUS_STE.csv', '2016Census_G23B_AUS.csv', '2016Census_G23B_AUS_CED.csv', '2016Census_G23B_AUS_GCCSA.csv', '2016Census_G23B_AUS_LGA.csv', '2016Census_G23B_AUS_POA.csv', '2016Census_G23B_AUS_SA1.csv', '2016Census_G23B_AUS_SA2.csv', '2016Census_G23B_AUS_SA3.csv', '2016Census_G23B_AUS_SA4.csv', '2016Census_G23B_AUS_SED.csv', '2016Census_G23B_AUS_SSC.csv', '2016Census_G23B_AUS_STE.csv', '2016Census_G24_AUS.csv', '2016Census_G24_AUS_CED.csv', '2016Census_G24_AUS_GCCSA.csv', '2016Census_G24_AUS_LGA.csv', '2016Census_G24_AUS_POA.csv', '2016Census_G24_AUS_SA1.csv', '2016Census_G24_AUS_SA2.csv', '2016Census_G24_AUS_SA3.csv', '2016Census_G24_AUS_SA4.csv', '2016Census_G24_AUS_SED.csv', '2016Census_G24_AUS_SSC.csv', '2016Census_G24_AUS_STE.csv', '2016Census_G25_AUS.csv', '2016Census_G25_AUS_CED.csv', '2016Census_G25_AUS_GCCSA.csv', '2016Census_G25_AUS_LGA.csv', '2016Census_G25_AUS_POA.csv', '2016Census_G25_AUS_SA1.csv', '2016Census_G25_AUS_SA2.csv', '2016Census_G25_AUS_SA3.csv', '2016Census_G25_AUS_SA4.csv', '2016Census_G25_AUS_SED.csv', '2016Census_G25_AUS_SSC.csv', '2016Census_G25_AUS_STE.csv', '2016Census_G26_AUS.csv', '2016Census_G26_AUS_CED.csv', '2016Census_G26_AUS_GCCSA.csv', '2016Census_G26_AUS_LGA.csv', '2016Census_G26_AUS_POA.csv', '2016Census_G26_AUS_SA1.csv', '2016Census_G26_AUS_SA2.csv', '2016Census_G26_AUS_SA3.csv', '2016Census_G26_AUS_SA4.csv', '2016Census_G26_AUS_SED.csv', '2016Census_G26_AUS_SSC.csv', '2016Census_G26_AUS_STE.csv', '2016Census_G27_AUS.csv', '2016Census_G27_AUS_CED.csv', '2016Census_G27_AUS_GCCSA.csv', '2016Census_G27_AUS_LGA.csv', '2016Census_G27_AUS_POA.csv', '2016Census_G27_AUS_SA1.csv', '2016Census_G27_AUS_SA2.csv', '2016Census_G27_AUS_SA3.csv', '2016Census_G27_AUS_SA4.csv', '2016Census_G27_AUS_SED.csv', '2016Census_G27_AUS_SSC.csv', '2016Census_G27_AUS_STE.csv', '2016Census_G28_AUS.csv', '2016Census_G28_AUS_CED.csv', '2016Census_G28_AUS_GCCSA.csv', '2016Census_G28_AUS_LGA.csv', '2016Census_G28_AUS_POA.csv', '2016Census_G28_AUS_SA1.csv', '2016Census_G28_AUS_SA2.csv', '2016Census_G28_AUS_SA3.csv', '2016Census_G28_AUS_SA4.csv', '2016Census_G28_AUS_SED.csv', '2016Census_G28_AUS_SSC.csv', '2016Census_G28_AUS_STE.csv', '2016Census_G29_AUS.csv', '2016Census_G29_AUS_CED.csv', '2016Census_G29_AUS_GCCSA.csv', '2016Census_G29_AUS_LGA.csv', '2016Census_G29_AUS_POA.csv', '2016Census_G29_AUS_SA1.csv', '2016Census_G29_AUS_SA2.csv', '2016Census_G29_AUS_SA3.csv', '2016Census_G29_AUS_SA4.csv', '2016Census_G29_AUS_SED.csv', '2016Census_G29_AUS_SSC.csv', '2016Census_G29_AUS_STE.csv', '2016Census_G30_AUS.csv', '2016Census_G30_AUS_CED.csv', '2016Census_G30_AUS_GCCSA.csv', '2016Census_G30_AUS_LGA.csv', '2016Census_G30_AUS_POA.csv', '2016Census_G30_AUS_SA1.csv', '2016Census_G30_AUS_SA2.csv', '2016Census_G30_AUS_SA3.csv', '2016Census_G30_AUS_SA4.csv', '2016Census_G30_AUS_SED.csv', '2016Census_G30_AUS_SSC.csv', '2016Census_G30_AUS_STE.csv', '2016Census_G31_AUS.csv', '2016Census_G31_AUS_CED.csv', '2016Census_G31_AUS_GCCSA.csv', '2016Census_G31_AUS_LGA.csv', '2016Census_G31_AUS_POA.csv', '2016Census_G31_AUS_SA1.csv', '2016Census_G31_AUS_SA2.csv', '2016Census_G31_AUS_SA3.csv', '2016Census_G31_AUS_SA4.csv', '2016Census_G31_AUS_SED.csv', '2016Census_G31_AUS_SSC.csv', '2016Census_G31_AUS_STE.csv', '2016Census_G32_AUS.csv', '2016Census_G32_AUS_CED.csv', '2016Census_G32_AUS_GCCSA.csv', '2016Census_G32_AUS_LGA.csv', '2016Census_G32_AUS_POA.csv', '2016Census_G32_AUS_SA1.csv', '2016Census_G32_AUS_SA2.csv', '2016Census_G32_AUS_SA3.csv', '2016Census_G32_AUS_SA4.csv', '2016Census_G32_AUS_SED.csv', '2016Census_G32_AUS_SSC.csv', '2016Census_G32_AUS_STE.csv', '2016Census_G33_AUS.csv', '2016Census_G33_AUS_CED.csv', '2016Census_G33_AUS_GCCSA.csv', '2016Census_G33_AUS_LGA.csv', '2016Census_G33_AUS_POA.csv', '2016Census_G33_AUS_SA1.csv', '2016Census_G33_AUS_SA2.csv', '2016Census_G33_AUS_SA3.csv', '2016Census_G33_AUS_SA4.csv', '2016Census_G33_AUS_SED.csv', '2016Census_G33_AUS_SSC.csv', '2016Census_G33_AUS_STE.csv', '2016Census_G34_AUS.csv', '2016Census_G34_AUS_CED.csv', '2016Census_G34_AUS_GCCSA.csv', '2016Census_G34_AUS_LGA.csv', '2016Census_G34_AUS_POA.csv', '2016Census_G34_AUS_SA1.csv', '2016Census_G34_AUS_SA2.csv', '2016Census_G34_AUS_SA3.csv', '2016Census_G34_AUS_SA4.csv', '2016Census_G34_AUS_SED.csv', '2016Census_G34_AUS_SSC.csv', '2016Census_G34_AUS_STE.csv', '2016Census_G35_AUS.csv', '2016Census_G35_AUS_CED.csv', '2016Census_G35_AUS_GCCSA.csv', '2016Census_G35_AUS_LGA.csv', '2016Census_G35_AUS_POA.csv', '2016Census_G35_AUS_SA1.csv', '2016Census_G35_AUS_SA2.csv', '2016Census_G35_AUS_SA3.csv', '2016Census_G35_AUS_SA4.csv', '2016Census_G35_AUS_SED.csv', '2016Census_G35_AUS_SSC.csv', '2016Census_G35_AUS_STE.csv', '2016Census_G36_AUS.csv', '2016Census_G36_AUS_CED.csv', '2016Census_G36_AUS_GCCSA.csv', '2016Census_G36_AUS_LGA.csv', '2016Census_G36_AUS_POA.csv', '2016Census_G36_AUS_SA1.csv', '2016Census_G36_AUS_SA2.csv', '2016Census_G36_AUS_SA3.csv', '2016Census_G36_AUS_SA4.csv', '2016Census_G36_AUS_SED.csv', '2016Census_G36_AUS_SSC.csv', '2016Census_G36_AUS_STE.csv', '2016Census_G37_AUS.csv', '2016Census_G37_AUS_CED.csv', '2016Census_G37_AUS_GCCSA.csv', '2016Census_G37_AUS_LGA.csv', '2016Census_G37_AUS_POA.csv', '2016Census_G37_AUS_SA1.csv', '2016Census_G37_AUS_SA2.csv', '2016Census_G37_AUS_SA3.csv', '2016Census_G37_AUS_SA4.csv', '2016Census_G37_AUS_SED.csv', '2016Census_G37_AUS_SSC.csv', '2016Census_G37_AUS_STE.csv', '2016Census_G38_AUS.csv', '2016Census_G38_AUS_CED.csv', '2016Census_G38_AUS_GCCSA.csv', '2016Census_G38_AUS_LGA.csv', '2016Census_G38_AUS_POA.csv', '2016Census_G38_AUS_SA1.csv', '2016Census_G38_AUS_SA2.csv', '2016Census_G38_AUS_SA3.csv', '2016Census_G38_AUS_SA4.csv', '2016Census_G38_AUS_SED.csv', '2016Census_G38_AUS_SSC.csv', '2016Census_G38_AUS_STE.csv', '2016Census_G39_AUS.csv', '2016Census_G39_AUS_CED.csv', '2016Census_G39_AUS_GCCSA.csv', '2016Census_G39_AUS_LGA.csv', '2016Census_G39_AUS_POA.csv', '2016Census_G39_AUS_SA1.csv', '2016Census_G39_AUS_SA2.csv', '2016Census_G39_AUS_SA3.csv', '2016Census_G39_AUS_SA4.csv', '2016Census_G39_AUS_SED.csv', '2016Census_G39_AUS_SSC.csv', '2016Census_G39_AUS_STE.csv']\n"
     ]
    }
   ],
   "source": [
    "# Test get_files()\n",
    "files = get_files(inputpath)\n",
    "print(files)\n"
   ]
  },
  {
   "cell_type": "markdown",
   "metadata": {},
   "source": [
    "#### Functions to actually make the schemas"
   ]
  },
  {
   "cell_type": "code",
   "execution_count": 13,
   "metadata": {
    "collapsed": true
   },
   "outputs": [],
   "source": [
    "def make_table_schema(file, inputpath, outputpath, flavour):\n",
    "    try:\n",
    "        # set to mysql, postgresql, etc\n",
    "        command = 'csvsql --dialect ' + flavour + ' '\n",
    "        # use the first 10k lines to guess column type\n",
    "        command += '--snifflimit 10000' + ' '\n",
    "        # feed input and output paths\n",
    "        command += inputpath + '/' + file + ' > ' + outputpath + '/' + file[:-4] + '.sql'\n",
    "        \n",
    "        return command\n",
    "    \n",
    "    except:\n",
    "        print('Couldn\\'t make command to build table schema for file: ' + file)\n",
    "\n",
    "def make_table_schemas(files, inputpath = 'to_import', outputpath = 'sql', flavour = 'mysql'):\n",
    "    for file in files:\n",
    "        try:\n",
    "            #print(file)\n",
    "            command = make_table_schema(file, inputpath, outputpath, flavour)\n",
    "            #print(command)\n",
    "            os.system(command)\n",
    "            print('Made schema for: ' + file)\n",
    "        except:\n",
    "            print('Fell over making schema for: ' + file)"
   ]
  },
  {
   "cell_type": "markdown",
   "metadata": {},
   "source": [
    "#### Go! Make the schemas"
   ]
  },
  {
   "cell_type": "code",
   "execution_count": null,
   "metadata": {
    "collapsed": true
   },
   "outputs": [],
   "source": [
    "make_table_schemas(files)"
   ]
  },
  {
   "cell_type": "markdown",
   "metadata": {
    "collapsed": true
   },
   "source": [
    "## Execute the .SQL Files"
   ]
  },
  {
   "cell_type": "markdown",
   "metadata": {},
   "source": [
    "#### Function to get the .SQL file names"
   ]
  },
  {
   "cell_type": "code",
   "execution_count": 4,
   "metadata": {
    "collapsed": true
   },
   "outputs": [],
   "source": [
    "def get_sql_files(path = 'sql'):\n",
    "    try:\n",
    "        files = [f for f in listdir(path) if isfile(join(path, f))]\n",
    "        return(files)\n",
    "    except:\n",
    "        print('Couldn\\'t get the sql files for some reason')"
   ]
  },
  {
   "cell_type": "markdown",
   "metadata": {},
   "source": [
    "#### Function to get the .SQL file paths"
   ]
  },
  {
   "cell_type": "code",
   "execution_count": 18,
   "metadata": {
    "collapsed": true
   },
   "outputs": [],
   "source": [
    "def get_sql_file_contents(file, filepath=False):\n",
    "    if filepath:\n",
    "        file = filepath + '/' + file\n",
    "    \n",
    "    try:\n",
    "        fd = open(file, 'r')\n",
    "        sqlFile = fd.read()\n",
    "        fd.close()\n",
    "        return sqlFile\n",
    "    except:\n",
    "        print('Couldn\\'t get the sql file contents for some reason: ' + file)"
   ]
  },
  {
   "cell_type": "markdown",
   "metadata": {},
   "source": [
    "#### Function to monkey patch the average columns - explained in readme"
   ]
  },
  {
   "cell_type": "code",
   "execution_count": 17,
   "metadata": {
    "collapsed": true
   },
   "outputs": [],
   "source": [
    "def monkey_patch_averages(contents):\n",
    "    contents = contents.replace('`Average_num_psns_per_bedroom` DECIMAL NOT NULL', '`Average_num_psns_per_bedroom` DECIMAL (4,2) NOT NULL')\n",
    "    contents = contents.replace('`Average_household_size` DECIMAL NOT NULL', '`Average_household_size` DECIMAL (4,2) NOT NULL')\n",
    "    return contents"
   ]
  },
  {
   "cell_type": "markdown",
   "metadata": {},
   "source": [
    "#### Function to execute the .SQL files contents"
   ]
  },
  {
   "cell_type": "code",
   "execution_count": 16,
   "metadata": {
    "collapsed": true
   },
   "outputs": [],
   "source": [
    "def execute_sql_file_contents(connection, contents):\n",
    "    try:\n",
    "        with connection.cursor() as cursor:\n",
    "            cursor.execute(contents)\n",
    "\n",
    "        connection.commit()\n",
    "    except:\n",
    "         print('SQL Error')"
   ]
  },
  {
   "cell_type": "markdown",
   "metadata": {},
   "source": [
    "### Actually run it all - Execute the .SQL Files"
   ]
  },
  {
   "cell_type": "code",
   "execution_count": 21,
   "metadata": {},
   "outputs": [
    {
     "name": "stdout",
     "output_type": "stream",
     "text": [
      "For instance we found this one: 2016Census_G01_AUS.sql\n"
     ]
    }
   ],
   "source": [
    "import pymysql\n",
    "from db import host, port, user, password, db\n",
    "# these variables are stored in the file db.py so they aren't listed in GIT!\n",
    "# you could define them here if you are just using Jupyter on a laptop\n",
    "\n",
    "# make sql connection\n",
    "connection = pymysql.connect(host=host,\n",
    "                             port=port,\n",
    "                             user=user,\n",
    "                             password=password,\n",
    "                             db=db,\n",
    "                             charset='utf8mb4',\n",
    "                             cursorclass=pymysql.cursors.DictCursor)\n",
    "\n",
    "# get the list of sql files we made before\n",
    "sql_files = get_sql_files()\n",
    "print('For instance we found this one: ' + sql_files[0])\n",
    "\n",
    "# loop through them\n",
    "for sql_file in sql_files:\n",
    "    try:\n",
    "        # read them\n",
    "        query = get_sql_file_contents(sql_file, filepath='sql')\n",
    "        query = monkey_patch_averages(query)\n",
    "        execute_sql_file_contents(connection, query)\n",
    "    except:\n",
    "        'Failed to execute sql for some reason' + sql_file\n",
    "\n",
    "# close connection\n",
    "connection.close()"
   ]
  },
  {
   "cell_type": "markdown",
   "metadata": {},
   "source": [
    "## Write data from the .CSVs into the tables"
   ]
  },
  {
   "cell_type": "markdown",
   "metadata": {},
   "source": [
    "#### Function to create a mysql connection string to use with Pandas"
   ]
  },
  {
   "cell_type": "code",
   "execution_count": 3,
   "metadata": {
    "collapsed": true
   },
   "outputs": [],
   "source": [
    "def create_mysql_engine_string(user,password,host,db,port=3306):\n",
    "    enginestr = 'mysql://'\n",
    "    enginestr += user\n",
    "    enginestr += ':'\n",
    "    enginestr += password\n",
    "    enginestr += '@'\n",
    "    enginestr += host\n",
    "    enginestr += ':'\n",
    "    enginestr += str(port)\n",
    "    enginestr += '/'\n",
    "    enginestr += db\n",
    "    \n",
    "    return enginestr"
   ]
  },
  {
   "cell_type": "markdown",
   "metadata": {},
   "source": [
    "#### Function to take a filename, read it into a Pandas dataframe, and write that dataframe to a mysql table"
   ]
  },
  {
   "cell_type": "code",
   "execution_count": 2,
   "metadata": {
    "collapsed": true
   },
   "outputs": [],
   "source": [
    "def insert_into_mysql(file, engine, path=False):\n",
    "    \n",
    "    try:\n",
    "        tablename = file[:-4] # strip '.csv'\n",
    "\n",
    "        if path:\n",
    "            file = path + '/' + file\n",
    "        \n",
    "        #header=0 makes it treat the first row as headers\n",
    "        df = pandas.read_csv(file, header=0, sep=',')\n",
    "        \n",
    "        #if_exists = append means insert into\n",
    "        #index=False means don't try to write the Pandas index as a column\n",
    "        df.to_sql(con=engine, name=tablename, if_exists='append', index=False)   \n",
    "    except:\n",
    "        print('Error: Couldn\\'t insert into mysql')"
   ]
  },
  {
   "cell_type": "markdown",
   "metadata": {},
   "source": [
    "## Actually run it - Insert data into the tables"
   ]
  },
  {
   "cell_type": "code",
   "execution_count": 18,
   "metadata": {},
   "outputs": [
    {
     "name": "stdout",
     "output_type": "stream",
     "text": [
      "for instance we found: 2016Census_G01_AUS.csv\n"
     ]
    },
    {
     "ename": "NameError",
     "evalue": "name 'user' is not defined",
     "output_type": "error",
     "traceback": [
      "\u001b[1;31m---------------------------------------------------------------------------\u001b[0m",
      "\u001b[1;31mNameError\u001b[0m                                 Traceback (most recent call last)",
      "\u001b[1;32m<ipython-input-18-23e42e230551>\u001b[0m in \u001b[0;36m<module>\u001b[1;34m()\u001b[0m\n\u001b[0;32m      8\u001b[0m \u001b[1;33m\u001b[0m\u001b[0m\n\u001b[0;32m      9\u001b[0m \u001b[1;31m# again, user, password et al are defined in db.py\u001b[0m\u001b[1;33m\u001b[0m\u001b[1;33m\u001b[0m\u001b[0m\n\u001b[1;32m---> 10\u001b[1;33m \u001b[0mengine\u001b[0m \u001b[1;33m=\u001b[0m \u001b[0mcreate_mysql_engine_string\u001b[0m\u001b[1;33m(\u001b[0m\u001b[0muser\u001b[0m\u001b[1;33m,\u001b[0m\u001b[0mpassword\u001b[0m\u001b[1;33m,\u001b[0m\u001b[0mhost\u001b[0m\u001b[1;33m,\u001b[0m\u001b[0mdb\u001b[0m\u001b[1;33m,\u001b[0m\u001b[0mport\u001b[0m\u001b[1;33m)\u001b[0m\u001b[1;33m\u001b[0m\u001b[0m\n\u001b[0m\u001b[0;32m     11\u001b[0m \u001b[1;33m\u001b[0m\u001b[0m\n\u001b[0;32m     12\u001b[0m \u001b[1;31m# for each .sql, write\u001b[0m\u001b[1;33m\u001b[0m\u001b[1;33m\u001b[0m\u001b[0m\n",
      "\u001b[1;31mNameError\u001b[0m: name 'user' is not defined"
     ]
    }
   ],
   "source": [
    "from sqlalchemy import create_engine\n",
    "import pandas\n",
    "from db import user, password, host, db, port\n",
    "\n",
    "# these both exist if you ran these in one hit, but here in case\n",
    "inputpath = 'to_import'\n",
    "files = get_files(inputpath)\n",
    "print('for instance we found: ' + files[0])\n",
    "\n",
    "# again, user, password et al are defined in db.py\n",
    "engine = create_mysql_engine_string(user,password,host,db,port)\n",
    "\n",
    "# for each .sql, write\n",
    "for file in files:\n",
    "    insert_into_mysql(file, engine, path=inputpath)\n",
    "    print('Inserted data for: ' + file)"
   ]
  }
 ],
 "metadata": {
  "kernelspec": {
   "display_name": "Python 3",
   "language": "python",
   "name": "python3"
  },
  "language_info": {
   "codemirror_mode": {
    "name": "ipython",
    "version": 3
   },
   "file_extension": ".py",
   "mimetype": "text/x-python",
   "name": "python",
   "nbconvert_exporter": "python",
   "pygments_lexer": "ipython3",
   "version": "3.6.1"
  }
 },
 "nbformat": 4,
 "nbformat_minor": 2
}
